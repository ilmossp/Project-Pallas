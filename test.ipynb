{
 "cells": [
  {
   "cell_type": "code",
   "execution_count": 31,
   "metadata": {},
   "outputs": [
    {
     "data": {
      "text/plain": [
       "(175341, 45)"
      ]
     },
     "execution_count": 31,
     "metadata": {},
     "output_type": "execute_result"
    }
   ],
   "source": [
    "import pandas as pd\n",
    "from joblib import load\n",
    "\n",
    "test_path = \"./data_local/UNSW_NB15_testing-set.csv\"\n",
    "features_path = \"./data_local/NUSW-NB15_features.csv\"\n",
    "data = pd.read_csv(test_path)\n",
    "features = pd.read_csv(features_path, encoding='latin-1', header=None)\n",
    "\n",
    "model = load('./models/random_forest_model _dropped.joblib')\n",
    "\n",
    "\n",
    "data.shape"
   ]
  },
  {
   "cell_type": "code",
   "execution_count": 29,
   "metadata": {},
   "outputs": [
    {
     "data": {
      "text/plain": [
       "(81173, 45)"
      ]
     },
     "execution_count": 29,
     "metadata": {},
     "output_type": "execute_result"
    }
   ],
   "source": [
    "\n",
    "\n",
    "def remove_spaces_in_column_names(df):\n",
    "    new_columns = {col: col.replace(' ', '') for col in df.columns}\n",
    "    df = df.rename(columns=new_columns)\n",
    "    return df\n",
    "data = remove_spaces_in_column_names(data)\n",
    "\n",
    "\n",
    "def remove_invalid_rows(df, column_name, desired_type):\n",
    "    invalid_rows = []\n",
    "    for i, value in enumerate(df[column_name]):\n",
    "        try:\n",
    "            casted_value = desired_type(value)\n",
    "        except (ValueError, TypeError):\n",
    "            invalid_rows.append(i)\n",
    "    new_df = df.drop(invalid_rows)\n",
    "    return new_df\n",
    "\n",
    "\n",
    "\n",
    "\n",
    "# Get the list of integer features\n",
    "integer_features = [ 'sbytes', 'dbytes', 'sttl', 'dttl', 'sloss', 'dloss',\n",
    "                    'Spkts', 'Dpkts', 'swin', 'dwin', 'stcpb', 'dtcpb', 'smean', 'dmean',\n",
    "                    'trans_depth', 'response_body_len', 'ct_state_ttl', 'ct_flw_http_mthd',\n",
    "                    'ct_ftp_cmd', 'ct_srv_src', 'ct_srv_dst', 'ct_dst_ltm', 'ct_src_ltm',\n",
    "                    'ct_src_dport_ltm', 'ct_dst_sport_ltm', 'ct_dst_src_ltm']\n",
    "\n",
    "# Find invalid values for each integer feature\n",
    "data = data[~(data == '-').any(axis=1)]\n",
    "data = data[~(data == ' ').any(axis=1)]\n",
    "data.dropna()\n",
    "\n",
    "\n",
    "from sklearn.preprocessing import LabelEncoder\n",
    "\n",
    "# Assuming your dataset is stored in a pandas DataFrame named 'df'\n",
    "\n",
    "# List of nominal feature columns to encode\n",
    "nominal_features = [ 'proto', 'state', 'service']\n",
    "\n",
    "# Create a copy of the original dataset\n",
    "\n",
    "data_encoded = data.copy()\n",
    "\n",
    "# Label Encoding\n",
    "label_encoder = LabelEncoder()\n",
    "for feature in nominal_features:\n",
    "    data_encoded[feature] = label_encoder.fit_transform(data_encoded[feature])\n",
    "\n",
    "\n",
    "import numpy as np\n",
    "\n",
    "rows, cols = np.where( data_encoded == \"NaN\")\n",
    "\n",
    "# Print the row and column indices where '-' occurs\n",
    "for row, col in zip(rows, cols):\n",
    "    print(f\"Row: {row}, Column: {data_encoded.columns[col]}\")\n",
    "\n",
    "\n",
    "\n",
    "data.shape"
   ]
  },
  {
   "cell_type": "code",
   "execution_count": 27,
   "metadata": {},
   "outputs": [],
   "source": [
    "columns = ['id',\n",
    " 'proto',\n",
    " 'state',\n",
    " 'dur',\n",
    " 'sbytes',\n",
    " 'dbytes',\n",
    " 'sttl',\n",
    " 'dttl',\n",
    " 'sloss',\n",
    " 'dloss',\n",
    " 'service',\n",
    " 'sload',\n",
    " 'dload',\n",
    " 'Spkts',\n",
    " 'Dpkts',\n",
    " 'swin',\n",
    " 'dwin',\n",
    " 'stcpb',\n",
    " 'dtcpb',\n",
    " 'smean',\n",
    " 'dmean',\n",
    " 'trans_depth',\n",
    " 'response_body_len',\n",
    " 'sjit',\n",
    " 'djit',\n",
    " 'sinpkt',\n",
    " 'dinpkt',\n",
    " 'tcprtt',\n",
    " 'synack',\n",
    " 'ackdat',\n",
    " 'is_sm_ips_ports',\n",
    " 'ct_state_ttl',\n",
    " 'ct_flw_http_mthd',\n",
    " 'is_ftp_login',\n",
    " 'ct_ftp_cmd',\n",
    " 'ct_srv_src',\n",
    " 'ct_srv_dst',\n",
    " 'ct_dst_ltm',\n",
    " 'ct_src_ltm',\n",
    " 'ct_src_dport_ltm',\n",
    " 'ct_dst_sport_ltm',\n",
    " 'ct_dst_src_ltm']\n",
    "\n",
    "\n",
    "test_data = data_encoded.drop([\"rate\",\"attack_cat\",\"label\"],axis=1)\n",
    "\n",
    "test_data.rename(columns={\"spkts\":\"Spkts\",\"dpkts\":\"Dpkts\"},inplace=True)\n",
    "\n",
    "test_data = test_data.reindex(columns=columns)\n",
    "\n",
    "prediction = model.predict(test_data)\n"
   ]
  },
  {
   "cell_type": "code",
   "execution_count": 28,
   "metadata": {},
   "outputs": [
    {
     "name": "stdout",
     "output_type": "stream",
     "text": [
      "Random Forest:\n",
      "Accuracy: 0.9779\n",
      "Precision: 0.9726\n",
      "Recall: 0.9990\n",
      "F1-Score: 0.9857\n",
      "\n"
     ]
    }
   ],
   "source": [
    "from sklearn.metrics import accuracy_score, precision_score, recall_score, f1_score\n",
    "\n",
    "\n",
    "y_test_dropped = data['label']\n",
    "\n",
    "\n",
    "\n",
    "\n",
    "random_forest_accuracy = accuracy_score(y_test_dropped,prediction)\n",
    "random_forest_precision = precision_score(y_test_dropped,prediction)\n",
    "random_forest_recall = recall_score(y_test_dropped,prediction)\n",
    "random_forest_f1score = f1_score(y_test_dropped,prediction)\n",
    "\n",
    "\n",
    "\n",
    "\n",
    "print(\"Random Forest:\")\n",
    "print(f\"Accuracy: {random_forest_accuracy:.4f}\")\n",
    "print(f\"Precision: {random_forest_precision:.4f}\")\n",
    "print(f\"Recall: {random_forest_recall:.4f}\")\n",
    "print(f\"F1-Score: {random_forest_f1score:.4f}\")\n",
    "print()"
   ]
  }
 ],
 "metadata": {
  "kernelspec": {
   "display_name": "Python 3",
   "language": "python",
   "name": "python3"
  },
  "language_info": {
   "codemirror_mode": {
    "name": "ipython",
    "version": 3
   },
   "file_extension": ".py",
   "mimetype": "text/x-python",
   "name": "python",
   "nbconvert_exporter": "python",
   "pygments_lexer": "ipython3",
   "version": "3.11.3"
  },
  "orig_nbformat": 4
 },
 "nbformat": 4,
 "nbformat_minor": 2
}
