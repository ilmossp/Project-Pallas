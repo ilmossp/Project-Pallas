{
 "cells": [
  {
   "cell_type": "code",
   "execution_count": 1,
   "id": "5bc90d64-8f34-4689-ad13-2aa778a76237",
   "metadata": {},
   "outputs": [],
   "source": [
    "import pandas as pd \n",
    "features_path = \"./data_local/NUSW-NB15_features.csv\"\n",
    "features = pd.read_csv(features_path, encoding='latin-1')\n",
    "data = pd.read_csv(\"./data_local/data.csv\")\n",
    "print(features['Type '])\n",
    "print(data.head(5))"
   ]
  },
  {
   "cell_type": "code",
   "execution_count": null,
   "id": "d7f95aaf-cb44-4d9a-bc4e-3ee87ad39f0a",
   "metadata": {},
   "outputs": [],
   "source": []
  },
  {
   "cell_type": "code",
   "execution_count": null,
   "id": "42bef176-8804-403e-92d6-52b500ff2497",
   "metadata": {},
   "outputs": [],
   "source": []
  }
 ],
 "metadata": {
  "kernelspec": {
   "display_name": "Python 3 (ipykernel)",
   "language": "python",
   "name": "python3"
  },
  "language_info": {
   "codemirror_mode": {
    "name": "ipython",
    "version": 3
   },
   "file_extension": ".py",
   "mimetype": "text/x-python",
   "name": "python",
   "nbconvert_exporter": "python",
   "pygments_lexer": "ipython3",
   "version": "3.11.3"
  }
 },
 "nbformat": 4,
 "nbformat_minor": 5
}
