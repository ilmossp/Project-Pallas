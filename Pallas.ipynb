{
 "cells": [
  {
   "cell_type": "code",
   "execution_count": 2,
   "id": "5bc90d64-8f34-4689-ad13-2aa778a76237",
   "metadata": {},
   "outputs": [
    {
     "name": "stderr",
     "output_type": "stream",
     "text": [
      "/tmp/ipykernel_29643/943859655.py:5: DtypeWarning: Columns (1,3,47) have mixed types. Specify dtype option on import or set low_memory=False.\n",
      "  part_1= pd.read_csv(data_path[0], encoding=\"utf-8\")\n",
      "/tmp/ipykernel_29643/943859655.py:6: DtypeWarning: Columns (3,39,47) have mixed types. Specify dtype option on import or set low_memory=False.\n",
      "  part_2= pd.read_csv(data_path[1], encoding=\"utf-8\")\n"
     ]
    }
   ],
   "source": [
    "import pandas as pd \n",
    "features_path = \"./data/NUSW-NB15_features.csv\"\n",
    "data_path = [\"./data/UNSW-NB15_1.csv\",\"./data/UNSW-NB15_2.csv\",\"./data/UNSW-NB15_3.csv\",\"./data/UNSW-NB15_4.csv\"]\n",
    "features = pd.read_csv(features_path, encoding='latin-1')\n",
    "part_1= pd.read_csv(data_path[0], encoding=\"utf-8\")\n",
    "part_2= pd.read_csv(data_path[1], encoding=\"utf-8\")\n",
    "part_3= pd.read_csv(data_path[2], encoding=\"utf-8\")\n",
    "part_4= pd.read_csv(data_path[3], encoding=\"utf-8\")\n",
    "\n",
    "# combine all parts into one dataframe\n",
    "data = pd.concat([part_1,part_2,part_3,part_4],axis=0)\n",
    "\n",
    "print(\"Data shape: \",data.shape)"
   ]
  },
  {
   "cell_type": "code",
   "execution_count": null,
   "id": "d7f95aaf-cb44-4d9a-bc4e-3ee87ad39f0a",
   "metadata": {},
   "outputs": [],
   "source": []
  },
  {
   "cell_type": "code",
   "execution_count": null,
   "id": "42bef176-8804-403e-92d6-52b500ff2497",
   "metadata": {},
   "outputs": [],
   "source": []
  }
 ],
 "metadata": {
  "kernelspec": {
   "display_name": "Python 3 (ipykernel)",
   "language": "python",
   "name": "python3"
  },
  "language_info": {
   "codemirror_mode": {
    "name": "ipython",
    "version": 3
   },
   "file_extension": ".py",
   "mimetype": "text/x-python",
   "name": "python",
   "nbconvert_exporter": "python",
   "pygments_lexer": "ipython3",
   "version": "3.11.3"
  }
 },
 "nbformat": 4,
 "nbformat_minor": 5
}
